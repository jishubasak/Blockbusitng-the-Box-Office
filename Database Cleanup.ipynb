{
 "cells": [
  {
   "cell_type": "code",
   "execution_count": 1,
   "metadata": {
    "ExecuteTime": {
     "end_time": "2019-08-28T07:59:10.392147Z",
     "start_time": "2019-08-28T07:58:17.713913Z"
    }
   },
   "outputs": [],
   "source": [
    "import pandas as pd\n",
    "import re\n",
    "import sqlite3\n",
    "from collections import Counter\n",
    "from bs4 import BeautifulSoup\n",
    "import re\n",
    "import requests\n",
    "import numpy as np"
   ]
  },
  {
   "cell_type": "code",
   "execution_count": 2,
   "metadata": {
    "ExecuteTime": {
     "end_time": "2019-08-28T08:03:38.870047Z",
     "start_time": "2019-08-28T08:03:38.863108Z"
    }
   },
   "outputs": [],
   "source": [
    "conn = sqlite3.connect('movies.db')"
   ]
  },
  {
   "cell_type": "code",
   "execution_count": 3,
   "metadata": {
    "ExecuteTime": {
     "end_time": "2019-08-28T08:03:53.043450Z",
     "start_time": "2019-08-28T08:03:41.461522Z"
    }
   },
   "outputs": [
    {
     "data": {
      "text/html": [
       "<div>\n",
       "<style scoped>\n",
       "    .dataframe tbody tr th:only-of-type {\n",
       "        vertical-align: middle;\n",
       "    }\n",
       "\n",
       "    .dataframe tbody tr th {\n",
       "        vertical-align: top;\n",
       "    }\n",
       "\n",
       "    .dataframe thead th {\n",
       "        text-align: right;\n",
       "    }\n",
       "</style>\n",
       "<table border=\"1\" class=\"dataframe\">\n",
       "  <thead>\n",
       "    <tr style=\"text-align: right;\">\n",
       "      <th></th>\n",
       "      <th>actors</th>\n",
       "      <th>composer</th>\n",
       "      <th>directors</th>\n",
       "      <th>domestic_revenue</th>\n",
       "      <th>franchise</th>\n",
       "      <th>genres</th>\n",
       "      <th>link</th>\n",
       "      <th>prod_budget</th>\n",
       "      <th>producers</th>\n",
       "      <th>rating</th>\n",
       "      <th>release_date</th>\n",
       "      <th>runtime</th>\n",
       "      <th>studio</th>\n",
       "      <th>title</th>\n",
       "      <th>worldwide_revenue</th>\n",
       "      <th>writers</th>\n",
       "      <th>actor_level</th>\n",
       "      <th>director_level</th>\n",
       "    </tr>\n",
       "  </thead>\n",
       "  <tbody>\n",
       "    <tr>\n",
       "      <th>0</th>\n",
       "      <td>Robert Downey, Jr., Chris Hemsworth, Mark Ruff...</td>\n",
       "      <td>Alan Silvestri</td>\n",
       "      <td>Joe Russo, Anthony Russo</td>\n",
       "      <td>857409335</td>\n",
       "      <td>1</td>\n",
       "      <td>Action / Adventure</td>\n",
       "      <td>/movies/?id=marvel2019.htm</td>\n",
       "      <td>356000000</td>\n",
       "      <td>Kevin Feige</td>\n",
       "      <td>PG-13</td>\n",
       "      <td>2019-04-26</td>\n",
       "      <td>181.0</td>\n",
       "      <td>Buena Vista</td>\n",
       "      <td>Avengers: Endgame</td>\n",
       "      <td>2794509335</td>\n",
       "      <td>Christopher Markus, Stephen McFeely</td>\n",
       "      <td>163</td>\n",
       "      <td>8</td>\n",
       "    </tr>\n",
       "    <tr>\n",
       "      <th>1</th>\n",
       "      <td>Donald Glover, James Earl Jones, Beyonce Knowl...</td>\n",
       "      <td>Hans Zimmer</td>\n",
       "      <td>Jon Favreau</td>\n",
       "      <td>430889078</td>\n",
       "      <td>1</td>\n",
       "      <td>Action / Adventure</td>\n",
       "      <td>/movies/?id=lionkingliveaction.htm</td>\n",
       "      <td>None</td>\n",
       "      <td>Jon Favreau, Jeffrey Silver</td>\n",
       "      <td>PG</td>\n",
       "      <td>2019-07-19</td>\n",
       "      <td>118.0</td>\n",
       "      <td>Buena Vista</td>\n",
       "      <td>The Lion King (2019)</td>\n",
       "      <td>1195789078</td>\n",
       "      <td>None</td>\n",
       "      <td>20</td>\n",
       "      <td>4</td>\n",
       "    </tr>\n",
       "    <tr>\n",
       "      <th>2</th>\n",
       "      <td>Brie Larson, Samuel L. Jackson, Ben Mendelsohn...</td>\n",
       "      <td>None</td>\n",
       "      <td>Anna Boden, Ryan Fleck</td>\n",
       "      <td>426829839</td>\n",
       "      <td>1</td>\n",
       "      <td>Action / Adventure</td>\n",
       "      <td>/movies/?id=marvel2018a.htm</td>\n",
       "      <td>None</td>\n",
       "      <td>Kevin Feige</td>\n",
       "      <td>PG-13</td>\n",
       "      <td>2019-03-08</td>\n",
       "      <td>128.0</td>\n",
       "      <td>Buena Vista</td>\n",
       "      <td>Captain Marvel</td>\n",
       "      <td>1128274794</td>\n",
       "      <td>None</td>\n",
       "      <td>32</td>\n",
       "      <td>8</td>\n",
       "    </tr>\n",
       "    <tr>\n",
       "      <th>3</th>\n",
       "      <td>Tom Hanks, Tim Allen, Jordan Peele, Keanu Reeves</td>\n",
       "      <td>Randy Newman</td>\n",
       "      <td>Josh Cooley</td>\n",
       "      <td>410050743</td>\n",
       "      <td>1</td>\n",
       "      <td>Animation</td>\n",
       "      <td>/movies/?id=pixar2017.htm</td>\n",
       "      <td>None</td>\n",
       "      <td>Jonas Rivera</td>\n",
       "      <td>G</td>\n",
       "      <td>2019-06-21</td>\n",
       "      <td>100.0</td>\n",
       "      <td>Buena Vista</td>\n",
       "      <td>Toy Story 4</td>\n",
       "      <td>959250743</td>\n",
       "      <td>None</td>\n",
       "      <td>16</td>\n",
       "      <td>4</td>\n",
       "    </tr>\n",
       "    <tr>\n",
       "      <th>4</th>\n",
       "      <td>Tom Holland, Jake Gyllenhaal, Marisa Tomei, Jo...</td>\n",
       "      <td>None</td>\n",
       "      <td>None</td>\n",
       "      <td>360328925</td>\n",
       "      <td>1</td>\n",
       "      <td>Action / Adventure</td>\n",
       "      <td>/movies/?id=spidermanhomecoming2.htm</td>\n",
       "      <td>160000000</td>\n",
       "      <td>None</td>\n",
       "      <td>PG-13</td>\n",
       "      <td>2019-07-02</td>\n",
       "      <td>129.0</td>\n",
       "      <td>Sony / Columbia</td>\n",
       "      <td>Spider-Man: Far from Home</td>\n",
       "      <td>1075328925</td>\n",
       "      <td>None</td>\n",
       "      <td>20</td>\n",
       "      <td>0</td>\n",
       "    </tr>\n",
       "    <tr>\n",
       "      <th>5</th>\n",
       "      <td>Will Smith</td>\n",
       "      <td>Alan Menken</td>\n",
       "      <td>Guy Ritchie</td>\n",
       "      <td>350369592</td>\n",
       "      <td>1</td>\n",
       "      <td>Fantasy</td>\n",
       "      <td>/movies/?id=disneyfairytale22019.htm</td>\n",
       "      <td>183000000</td>\n",
       "      <td>None</td>\n",
       "      <td>PG</td>\n",
       "      <td>2019-05-24</td>\n",
       "      <td>128.0</td>\n",
       "      <td>Buena Vista</td>\n",
       "      <td>Aladdin (2019)</td>\n",
       "      <td>1025569592</td>\n",
       "      <td>None</td>\n",
       "      <td>4</td>\n",
       "      <td>4</td>\n",
       "    </tr>\n",
       "    <tr>\n",
       "      <th>6</th>\n",
       "      <td>Lupita Nyong'o, Elisabeth Moss</td>\n",
       "      <td>None</td>\n",
       "      <td>Jordan Peele</td>\n",
       "      <td>175005930</td>\n",
       "      <td>0</td>\n",
       "      <td>Thriller</td>\n",
       "      <td>/movies/?id=untitledjordanpeele.htm</td>\n",
       "      <td>20000000</td>\n",
       "      <td>Jordan Peele, Jason Blum</td>\n",
       "      <td>R</td>\n",
       "      <td>2019-03-22</td>\n",
       "      <td>116.0</td>\n",
       "      <td>Universal</td>\n",
       "      <td>Us</td>\n",
       "      <td>254664460</td>\n",
       "      <td>Jordan Peele</td>\n",
       "      <td>6</td>\n",
       "      <td>4</td>\n",
       "    </tr>\n",
       "    <tr>\n",
       "      <th>7</th>\n",
       "      <td>Keanu Reeves, Halle Berry, Laurence Fishburne</td>\n",
       "      <td>Tyler Bates</td>\n",
       "      <td>Chad Stahelski</td>\n",
       "      <td>170165857</td>\n",
       "      <td>1</td>\n",
       "      <td>Action</td>\n",
       "      <td>/movies/?id=johnwick3.htm</td>\n",
       "      <td>None</td>\n",
       "      <td>None</td>\n",
       "      <td>R</td>\n",
       "      <td>2019-05-17</td>\n",
       "      <td>130.0</td>\n",
       "      <td>Lionsgate/Summit</td>\n",
       "      <td>John Wick: Chapter 3 - Parabellum</td>\n",
       "      <td>320051984</td>\n",
       "      <td>None</td>\n",
       "      <td>10</td>\n",
       "      <td>4</td>\n",
       "    </tr>\n",
       "    <tr>\n",
       "      <th>8</th>\n",
       "      <td>Jay Baruchel, America Ferrera, Cate Blanchett,...</td>\n",
       "      <td>None</td>\n",
       "      <td>Dean DeBlois</td>\n",
       "      <td>160799505</td>\n",
       "      <td>1</td>\n",
       "      <td>Animation</td>\n",
       "      <td>/movies/?id=httyd3.htm</td>\n",
       "      <td>129000000</td>\n",
       "      <td>None</td>\n",
       "      <td>PG</td>\n",
       "      <td>2019-02-22</td>\n",
       "      <td>104.0</td>\n",
       "      <td>Universal</td>\n",
       "      <td>How to Train Your Dragon: The Hidden World</td>\n",
       "      <td>519758180</td>\n",
       "      <td>None</td>\n",
       "      <td>23</td>\n",
       "      <td>4</td>\n",
       "    </tr>\n",
       "    <tr>\n",
       "      <th>9</th>\n",
       "      <td>Kevin Hart, Harrison Ford, Tiffany Haddish, La...</td>\n",
       "      <td>Alexandre Desplat</td>\n",
       "      <td>Chris Renaud</td>\n",
       "      <td>155409025</td>\n",
       "      <td>1</td>\n",
       "      <td>Animation</td>\n",
       "      <td>/movies/?id=illumination2018.htm</td>\n",
       "      <td>80000000</td>\n",
       "      <td>Janet Healy, Christopher Meledandri</td>\n",
       "      <td>PG</td>\n",
       "      <td>2019-06-07</td>\n",
       "      <td>86.0</td>\n",
       "      <td>Universal</td>\n",
       "      <td>The Secret Life of Pets 2</td>\n",
       "      <td>354009025</td>\n",
       "      <td>None</td>\n",
       "      <td>14</td>\n",
       "      <td>4</td>\n",
       "    </tr>\n",
       "  </tbody>\n",
       "</table>\n",
       "</div>"
      ],
      "text/plain": [
       "                                              actors           composer  \\\n",
       "0  Robert Downey, Jr., Chris Hemsworth, Mark Ruff...     Alan Silvestri   \n",
       "1  Donald Glover, James Earl Jones, Beyonce Knowl...        Hans Zimmer   \n",
       "2  Brie Larson, Samuel L. Jackson, Ben Mendelsohn...               None   \n",
       "3   Tom Hanks, Tim Allen, Jordan Peele, Keanu Reeves       Randy Newman   \n",
       "4  Tom Holland, Jake Gyllenhaal, Marisa Tomei, Jo...               None   \n",
       "5                                         Will Smith        Alan Menken   \n",
       "6                     Lupita Nyong'o, Elisabeth Moss               None   \n",
       "7      Keanu Reeves, Halle Berry, Laurence Fishburne        Tyler Bates   \n",
       "8  Jay Baruchel, America Ferrera, Cate Blanchett,...               None   \n",
       "9  Kevin Hart, Harrison Ford, Tiffany Haddish, La...  Alexandre Desplat   \n",
       "\n",
       "                  directors domestic_revenue  franchise              genres  \\\n",
       "0  Joe Russo, Anthony Russo        857409335          1  Action / Adventure   \n",
       "1               Jon Favreau        430889078          1  Action / Adventure   \n",
       "2    Anna Boden, Ryan Fleck        426829839          1  Action / Adventure   \n",
       "3               Josh Cooley        410050743          1           Animation   \n",
       "4                      None        360328925          1  Action / Adventure   \n",
       "5               Guy Ritchie        350369592          1             Fantasy   \n",
       "6              Jordan Peele        175005930          0            Thriller   \n",
       "7            Chad Stahelski        170165857          1              Action   \n",
       "8              Dean DeBlois        160799505          1           Animation   \n",
       "9              Chris Renaud        155409025          1           Animation   \n",
       "\n",
       "                                   link prod_budget  \\\n",
       "0            /movies/?id=marvel2019.htm   356000000   \n",
       "1    /movies/?id=lionkingliveaction.htm        None   \n",
       "2           /movies/?id=marvel2018a.htm        None   \n",
       "3             /movies/?id=pixar2017.htm        None   \n",
       "4  /movies/?id=spidermanhomecoming2.htm   160000000   \n",
       "5  /movies/?id=disneyfairytale22019.htm   183000000   \n",
       "6   /movies/?id=untitledjordanpeele.htm    20000000   \n",
       "7             /movies/?id=johnwick3.htm        None   \n",
       "8                /movies/?id=httyd3.htm   129000000   \n",
       "9      /movies/?id=illumination2018.htm    80000000   \n",
       "\n",
       "                             producers rating release_date  runtime  \\\n",
       "0                          Kevin Feige  PG-13   2019-04-26    181.0   \n",
       "1          Jon Favreau, Jeffrey Silver     PG   2019-07-19    118.0   \n",
       "2                          Kevin Feige  PG-13   2019-03-08    128.0   \n",
       "3                         Jonas Rivera      G   2019-06-21    100.0   \n",
       "4                                 None  PG-13   2019-07-02    129.0   \n",
       "5                                 None     PG   2019-05-24    128.0   \n",
       "6             Jordan Peele, Jason Blum      R   2019-03-22    116.0   \n",
       "7                                 None      R   2019-05-17    130.0   \n",
       "8                                 None     PG   2019-02-22    104.0   \n",
       "9  Janet Healy, Christopher Meledandri     PG   2019-06-07     86.0   \n",
       "\n",
       "             studio                                       title  \\\n",
       "0       Buena Vista                           Avengers: Endgame   \n",
       "1       Buena Vista                        The Lion King (2019)   \n",
       "2       Buena Vista                             Captain Marvel    \n",
       "3       Buena Vista                                 Toy Story 4   \n",
       "4   Sony / Columbia                   Spider-Man: Far from Home   \n",
       "5       Buena Vista                              Aladdin (2019)   \n",
       "6         Universal                                          Us   \n",
       "7  Lionsgate/Summit           John Wick: Chapter 3 - Parabellum   \n",
       "8         Universal  How to Train Your Dragon: The Hidden World   \n",
       "9         Universal                   The Secret Life of Pets 2   \n",
       "\n",
       "  worldwide_revenue                              writers  actor_level  \\\n",
       "0        2794509335  Christopher Markus, Stephen McFeely          163   \n",
       "1        1195789078                                 None           20   \n",
       "2        1128274794                                 None           32   \n",
       "3         959250743                                 None           16   \n",
       "4        1075328925                                 None           20   \n",
       "5        1025569592                                 None            4   \n",
       "6         254664460                         Jordan Peele            6   \n",
       "7         320051984                                 None           10   \n",
       "8         519758180                                 None           23   \n",
       "9         354009025                                 None           14   \n",
       "\n",
       "   director_level  \n",
       "0               8  \n",
       "1               4  \n",
       "2               8  \n",
       "3               4  \n",
       "4               0  \n",
       "5               4  \n",
       "6               4  \n",
       "7               4  \n",
       "8               4  \n",
       "9               4  "
      ]
     },
     "execution_count": 3,
     "metadata": {},
     "output_type": "execute_result"
    }
   ],
   "source": [
    "pd.read_sql('SELECT * FROM moves LIMIT 10', conn)"
   ]
  },
  {
   "cell_type": "code",
   "execution_count": 294,
   "metadata": {
    "ExecuteTime": {
     "end_time": "2019-08-07T12:45:03.404054Z",
     "start_time": "2019-08-07T12:45:03.093309Z"
    }
   },
   "outputs": [],
   "source": [
    "df = pd.read_sql('''SELECT * FROM movies''', conn)"
   ]
  },
  {
   "cell_type": "code",
   "execution_count": 295,
   "metadata": {
    "ExecuteTime": {
     "end_time": "2019-08-07T12:45:03.428242Z",
     "start_time": "2019-08-07T12:45:03.405589Z"
    }
   },
   "outputs": [],
   "source": [
    "import seaborn as sns\n",
    "import matplotlib.pyplot as plt\n",
    "%matplotlib inline"
   ]
  },
  {
   "cell_type": "code",
   "execution_count": 296,
   "metadata": {
    "ExecuteTime": {
     "end_time": "2019-08-07T12:45:03.512037Z",
     "start_time": "2019-08-07T12:45:03.431082Z"
    }
   },
   "outputs": [],
   "source": [
    "df['domestic_revenue'] = df['domestic_revenue'].apply(lambda x: \\\n",
    "                re.findall(r'(\\d*)', x.replace('$', '').replace(',', ''))[0])\n",
    "df['worldwide_revenue'] = df['worldwide_revenue'].apply(lambda x: \\\n",
    "                re.findall(r'(\\d*)', x.replace('$', '').replace(',', ''))[0])"
   ]
  },
  {
   "cell_type": "code",
   "execution_count": 297,
   "metadata": {
    "ExecuteTime": {
     "end_time": "2019-08-07T12:45:03.544129Z",
     "start_time": "2019-08-07T12:45:03.513746Z"
    }
   },
   "outputs": [],
   "source": [
    "df['prod_budget'] = df['prod_budget'].apply(lambda x: int(re.findall(r'\\d*',\\\n",
    "        x.replace('$', ''))[0]) * 1000000 if x != '' and 'million' in x else x)\n",
    "df['prod_budget'] = df['prod_budget'].apply(lambda x: x.replace('$', '').\\\n",
    "                    replace(',', '') if isinstance(x, int) == False else x)"
   ]
  },
  {
   "cell_type": "code",
   "execution_count": 298,
   "metadata": {
    "ExecuteTime": {
     "end_time": "2019-08-07T12:45:03.631053Z",
     "start_time": "2019-08-07T12:45:03.625611Z"
    }
   },
   "outputs": [],
   "source": [
    "def get_runtime(x):\n",
    "    if x != '':\n",
    "        times = re.findall(r'(\\d*)\\shrs.\\s(\\d*)\\smin.', x)[0]\n",
    "        hrs = times[0]\n",
    "        mins = times[1]\n",
    "\n",
    "        return (int(times[0]) * 60) + int(mins)\n",
    "    else:\n",
    "        pass"
   ]
  },
  {
   "cell_type": "code",
   "execution_count": 299,
   "metadata": {
    "ExecuteTime": {
     "end_time": "2019-08-07T12:45:04.635359Z",
     "start_time": "2019-08-07T12:45:04.572491Z"
    }
   },
   "outputs": [],
   "source": [
    "df['runtime'] = df['runtime'].apply(get_runtime)"
   ]
  },
  {
   "cell_type": "code",
   "execution_count": 300,
   "metadata": {
    "ExecuteTime": {
     "end_time": "2019-08-07T12:45:06.396721Z",
     "start_time": "2019-08-07T12:45:04.710503Z"
    },
    "scrolled": true
   },
   "outputs": [],
   "source": [
    "df['release_date'] = pd.DatetimeIndex(df['release_date']).date"
   ]
  },
  {
   "cell_type": "code",
   "execution_count": 301,
   "metadata": {
    "ExecuteTime": {
     "end_time": "2019-08-07T12:45:06.485601Z",
     "start_time": "2019-08-07T12:45:06.398548Z"
    }
   },
   "outputs": [],
   "source": [
    "for col in df.columns:\n",
    "    df[col] = df[col].apply(lambda x: np.nan if x == '' else x)"
   ]
  },
  {
   "cell_type": "code",
   "execution_count": 302,
   "metadata": {
    "ExecuteTime": {
     "end_time": "2019-08-07T12:45:06.490922Z",
     "start_time": "2019-08-07T12:45:06.488007Z"
    }
   },
   "outputs": [],
   "source": [
    "# df.to_sql('movies_clean', conn)"
   ]
  },
  {
   "cell_type": "code",
   "execution_count": 303,
   "metadata": {
    "ExecuteTime": {
     "end_time": "2019-08-07T12:45:06.523567Z",
     "start_time": "2019-08-07T12:45:06.493087Z"
    }
   },
   "outputs": [],
   "source": [
    "df2 = df.dropna()"
   ]
  },
  {
   "cell_type": "code",
   "execution_count": 304,
   "metadata": {
    "ExecuteTime": {
     "end_time": "2019-08-07T12:45:07.511237Z",
     "start_time": "2019-08-07T12:45:07.503359Z"
    }
   },
   "outputs": [],
   "source": [
    "df3 = df2[['domestic_revenue', 'franchise', 'genres', \n",
    "           'prod_budget', 'rating', 'release_date', 'studio', 'worldwide_revenue']].copy()"
   ]
  },
  {
   "cell_type": "code",
   "execution_count": 305,
   "metadata": {
    "ExecuteTime": {
     "end_time": "2019-08-07T12:45:07.697774Z",
     "start_time": "2019-08-07T12:45:07.690743Z"
    }
   },
   "outputs": [],
   "source": [
    "df3['month'] = df3['release_date'].apply(lambda x: x.month)"
   ]
  },
  {
   "cell_type": "code",
   "execution_count": 306,
   "metadata": {
    "ExecuteTime": {
     "end_time": "2019-08-07T12:45:07.854875Z",
     "start_time": "2019-08-07T12:45:07.848646Z"
    }
   },
   "outputs": [],
   "source": [
    "df3.drop('release_date', axis=1, inplace=True)"
   ]
  },
  {
   "cell_type": "code",
   "execution_count": 307,
   "metadata": {
    "ExecuteTime": {
     "end_time": "2019-08-07T12:45:07.998677Z",
     "start_time": "2019-08-07T12:45:07.988619Z"
    }
   },
   "outputs": [],
   "source": [
    "df3['domestic_revenue'] = df3['domestic_revenue'].astype(int)\n",
    "df3['worldwide_revenue'] = df3['worldwide_revenue'].astype(int)\n",
    "df3['prod_budget'] = df3['prod_budget'].astype(int)"
   ]
  },
  {
   "cell_type": "code",
   "execution_count": 308,
   "metadata": {
    "ExecuteTime": {
     "end_time": "2019-08-07T12:45:08.162113Z",
     "start_time": "2019-08-07T12:45:08.158101Z"
    }
   },
   "outputs": [],
   "source": [
    "df3['month'] = df3['month'].astype('O')"
   ]
  },
  {
   "cell_type": "code",
   "execution_count": 309,
   "metadata": {
    "ExecuteTime": {
     "end_time": "2019-08-07T12:45:09.614591Z",
     "start_time": "2019-08-07T12:45:09.591450Z"
    }
   },
   "outputs": [],
   "source": [
    "df4 = pd.get_dummies(df3.drop('worldwide_revenue', axis=1))"
   ]
  },
  {
   "cell_type": "code",
   "execution_count": 366,
   "metadata": {
    "ExecuteTime": {
     "end_time": "2019-08-08T05:20:26.946006Z",
     "start_time": "2019-08-08T05:20:26.940853Z"
    }
   },
   "outputs": [
    {
     "data": {
      "text/plain": [
       "98"
      ]
     },
     "execution_count": 366,
     "metadata": {},
     "output_type": "execute_result"
    }
   ],
   "source": [
    "len(df4.columns)"
   ]
  },
  {
   "cell_type": "code",
   "execution_count": null,
   "metadata": {},
   "outputs": [],
   "source": []
  }
 ],
 "metadata": {
  "kernelspec": {
   "display_name": "Python 3",
   "language": "python",
   "name": "python3"
  },
  "language_info": {
   "codemirror_mode": {
    "name": "ipython",
    "version": 3
   },
   "file_extension": ".py",
   "mimetype": "text/x-python",
   "name": "python",
   "nbconvert_exporter": "python",
   "pygments_lexer": "ipython3",
   "version": "3.7.3"
  },
  "toc": {
   "base_numbering": 1,
   "nav_menu": {},
   "number_sections": true,
   "sideBar": true,
   "skip_h1_title": false,
   "title_cell": "Table of Contents",
   "title_sidebar": "Contents",
   "toc_cell": false,
   "toc_position": {},
   "toc_section_display": true,
   "toc_window_display": false
  }
 },
 "nbformat": 4,
 "nbformat_minor": 2
}
